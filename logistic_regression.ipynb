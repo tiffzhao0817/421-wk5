{
 "cells": [
  {
   "cell_type": "markdown",
   "metadata": {},
   "source": [
    "#### Load the libraries"
   ]
  },
  {
   "cell_type": "code",
   "execution_count": 1,
   "metadata": {},
   "outputs": [],
   "source": [
    "# Import necessary libraries\n",
    "import pandas as pd\n",
    "import numpy as np\n",
    "from sklearn.model_selection import train_test_split\n",
    "from sklearn.preprocessing import StandardScaler,RobustScaler, OneHotEncoder\n",
    "from sklearn.compose import ColumnTransformer\n",
    "from sklearn.pipeline import Pipeline\n",
    "from sklearn.impute import SimpleImputer\n",
    "from sklearn.linear_model import LogisticRegression\n",
    "from sklearn.metrics import f1_score, classification_report\n",
    "from sklearn.ensemble import RandomForestClassifier\n",
    "from sklearn.svm import SVC\n",
    "from sklearn.impute import KNNImputer\n",
    "from sklearn.ensemble import GradientBoostingClassifier\n",
    "from sklearn.neighbors import KNeighborsClassifier\n"
   ]
  },
  {
   "cell_type": "markdown",
   "metadata": {},
   "source": [
    "### Load the dataset"
   ]
  },
  {
   "cell_type": "code",
   "execution_count": 3,
   "metadata": {},
   "outputs": [
    {
     "data": {
      "text/html": [
       "<div>\n",
       "<style scoped>\n",
       "    .dataframe tbody tr th:only-of-type {\n",
       "        vertical-align: middle;\n",
       "    }\n",
       "\n",
       "    .dataframe tbody tr th {\n",
       "        vertical-align: top;\n",
       "    }\n",
       "\n",
       "    .dataframe thead th {\n",
       "        text-align: right;\n",
       "    }\n",
       "</style>\n",
       "<table border=\"1\" class=\"dataframe\">\n",
       "  <thead>\n",
       "    <tr style=\"text-align: right;\">\n",
       "      <th></th>\n",
       "      <th>gender</th>\n",
       "      <th>age</th>\n",
       "      <th>bmi</th>\n",
       "      <th>systolic_bp</th>\n",
       "      <th>diastolic_bp</th>\n",
       "      <th>exercise_frequency</th>\n",
       "      <th>smoker</th>\n",
       "      <th>family_history</th>\n",
       "      <th>diet_quality</th>\n",
       "      <th>us_state</th>\n",
       "      <th>shoe_size</th>\n",
       "      <th>cholesterol_level</th>\n",
       "      <th>has_disease</th>\n",
       "    </tr>\n",
       "  </thead>\n",
       "  <tbody>\n",
       "    <tr>\n",
       "      <th>0</th>\n",
       "      <td>Male</td>\n",
       "      <td>53</td>\n",
       "      <td>19.138668</td>\n",
       "      <td>121.898174</td>\n",
       "      <td>61.773357</td>\n",
       "      <td>NaN</td>\n",
       "      <td>1.0</td>\n",
       "      <td>1.0</td>\n",
       "      <td>Poor</td>\n",
       "      <td>NY</td>\n",
       "      <td>12.365815</td>\n",
       "      <td>160.204426</td>\n",
       "      <td>0</td>\n",
       "    </tr>\n",
       "    <tr>\n",
       "      <th>1</th>\n",
       "      <td>Female</td>\n",
       "      <td>23</td>\n",
       "      <td>32.498117</td>\n",
       "      <td>154.821812</td>\n",
       "      <td>68.959128</td>\n",
       "      <td>Regularly</td>\n",
       "      <td>1.0</td>\n",
       "      <td>NaN</td>\n",
       "      <td>Average</td>\n",
       "      <td>OH</td>\n",
       "      <td>10.585105</td>\n",
       "      <td>145.484203</td>\n",
       "      <td>0</td>\n",
       "    </tr>\n",
       "    <tr>\n",
       "      <th>2</th>\n",
       "      <td>Male</td>\n",
       "      <td>27</td>\n",
       "      <td>33.151563</td>\n",
       "      <td>185.758938</td>\n",
       "      <td>113.805127</td>\n",
       "      <td>Regularly</td>\n",
       "      <td>1.0</td>\n",
       "      <td>0.0</td>\n",
       "      <td>NaN</td>\n",
       "      <td>FL</td>\n",
       "      <td>12.346710</td>\n",
       "      <td>206.106997</td>\n",
       "      <td>1</td>\n",
       "    </tr>\n",
       "    <tr>\n",
       "      <th>3</th>\n",
       "      <td>Female</td>\n",
       "      <td>32</td>\n",
       "      <td>37.248601</td>\n",
       "      <td>163.894943</td>\n",
       "      <td>57.066786</td>\n",
       "      <td>Frequently</td>\n",
       "      <td>0.0</td>\n",
       "      <td>1.0</td>\n",
       "      <td>Poor</td>\n",
       "      <td>OH</td>\n",
       "      <td>7.997821</td>\n",
       "      <td>257.131324</td>\n",
       "      <td>1</td>\n",
       "    </tr>\n",
       "    <tr>\n",
       "      <th>4</th>\n",
       "      <td>Female</td>\n",
       "      <td>18</td>\n",
       "      <td>26.668744</td>\n",
       "      <td>117.623795</td>\n",
       "      <td>93.728305</td>\n",
       "      <td>NaN</td>\n",
       "      <td>0.0</td>\n",
       "      <td>0.0</td>\n",
       "      <td>Good</td>\n",
       "      <td>NY</td>\n",
       "      <td>11.679335</td>\n",
       "      <td>249.370450</td>\n",
       "      <td>0</td>\n",
       "    </tr>\n",
       "  </tbody>\n",
       "</table>\n",
       "</div>"
      ],
      "text/plain": [
       "   gender  age        bmi  systolic_bp  diastolic_bp exercise_frequency  \\\n",
       "0    Male   53  19.138668   121.898174     61.773357                NaN   \n",
       "1  Female   23  32.498117   154.821812     68.959128          Regularly   \n",
       "2    Male   27  33.151563   185.758938    113.805127          Regularly   \n",
       "3  Female   32  37.248601   163.894943     57.066786         Frequently   \n",
       "4  Female   18  26.668744   117.623795     93.728305                NaN   \n",
       "\n",
       "   smoker  family_history diet_quality us_state  shoe_size  cholesterol_level  \\\n",
       "0     1.0             1.0         Poor       NY  12.365815         160.204426   \n",
       "1     1.0             NaN      Average       OH  10.585105         145.484203   \n",
       "2     1.0             0.0          NaN       FL  12.346710         206.106997   \n",
       "3     0.0             1.0         Poor       OH   7.997821         257.131324   \n",
       "4     0.0             0.0         Good       NY  11.679335         249.370450   \n",
       "\n",
       "   has_disease  \n",
       "0            0  \n",
       "1            0  \n",
       "2            1  \n",
       "3            1  \n",
       "4            0  "
      ]
     },
     "execution_count": 3,
     "metadata": {},
     "output_type": "execute_result"
    }
   ],
   "source": [
    "# Load the training dataset\n",
    "data = pd.read_csv(\"synthetic_data_training.csv\")\n",
    "data.head()"
   ]
  },
  {
   "cell_type": "markdown",
   "metadata": {},
   "source": [
    "####  Check all columns Names and Any missing values"
   ]
  },
  {
   "cell_type": "code",
   "execution_count": 4,
   "metadata": {},
   "outputs": [
    {
     "name": "stdout",
     "output_type": "stream",
     "text": [
      "------------ Available Columns --------------------------\n",
      "gender\n",
      "age\n",
      "bmi\n",
      "systolic_bp\n",
      "diastolic_bp\n",
      "exercise_frequency\n",
      "smoker\n",
      "family_history\n",
      "diet_quality\n",
      "us_state\n",
      "shoe_size\n",
      "cholesterol_level\n",
      "has_disease\n",
      " --------------  Data Types of Columns:  ---------------\n",
      "gender                 object\n",
      "age                     int64\n",
      "bmi                   float64\n",
      "systolic_bp           float64\n",
      "diastolic_bp          float64\n",
      "exercise_frequency     object\n",
      "smoker                float64\n",
      "family_history        float64\n",
      "diet_quality           object\n",
      "us_state               object\n",
      "shoe_size             float64\n",
      "cholesterol_level     float64\n",
      "has_disease             int64\n",
      "dtype: object\n"
     ]
    }
   ],
   "source": [
    "column_names = data.columns\n",
    "\n",
    "# available columns\n",
    "print(\"------------ Available Columns --------------------------\")\n",
    "for column_name in column_names:\n",
    "    print(column_name)\n",
    "    \n",
    "    \n",
    "# Get data types of each column\n",
    "column_data_types = data.dtypes\n",
    "\n",
    "# Print the data types\n",
    "print(\" --------------  Data Types of Columns:  ---------------\")\n",
    "print(column_data_types)"
   ]
  },
  {
   "cell_type": "code",
   "execution_count": 5,
   "metadata": {},
   "outputs": [
    {
     "name": "stdout",
     "output_type": "stream",
     "text": [
      "Columns with Missing Values:\n",
      "['bmi', 'systolic_bp', 'diastolic_bp', 'exercise_frequency', 'smoker', 'family_history', 'diet_quality', 'cholesterol_level']\n"
     ]
    }
   ],
   "source": [
    "## finding missing columns\n",
    "def find_missing(df):\n",
    "    # Find columns with missing values\n",
    "    has_missing_values = df.columns[df.isnull().any()].tolist()\n",
    "\n",
    "    # Print the columns with missing values\n",
    "    print(\"Columns with Missing Values:\")\n",
    "    print(has_missing_values) \n",
    "    \n",
    "find_missing(data)"
   ]
  },
  {
   "cell_type": "markdown",
   "metadata": {},
   "source": [
    "### Preprocessing"
   ]
  },
  {
   "cell_type": "markdown",
   "metadata": {},
   "source": [
    "#### Imputing Numerical Columns"
   ]
  },
  {
   "cell_type": "code",
   "execution_count": 6,
   "metadata": {},
   "outputs": [
    {
     "data": {
      "text/html": [
       "<div>\n",
       "<style scoped>\n",
       "    .dataframe tbody tr th:only-of-type {\n",
       "        vertical-align: middle;\n",
       "    }\n",
       "\n",
       "    .dataframe tbody tr th {\n",
       "        vertical-align: top;\n",
       "    }\n",
       "\n",
       "    .dataframe thead th {\n",
       "        text-align: right;\n",
       "    }\n",
       "</style>\n",
       "<table border=\"1\" class=\"dataframe\">\n",
       "  <thead>\n",
       "    <tr style=\"text-align: right;\">\n",
       "      <th></th>\n",
       "      <th>gender</th>\n",
       "      <th>age</th>\n",
       "      <th>bmi</th>\n",
       "      <th>systolic_bp</th>\n",
       "      <th>diastolic_bp</th>\n",
       "      <th>exercise_frequency</th>\n",
       "      <th>smoker</th>\n",
       "      <th>family_history</th>\n",
       "      <th>diet_quality</th>\n",
       "      <th>us_state</th>\n",
       "      <th>shoe_size</th>\n",
       "      <th>cholesterol_level</th>\n",
       "      <th>has_disease</th>\n",
       "    </tr>\n",
       "  </thead>\n",
       "  <tbody>\n",
       "    <tr>\n",
       "      <th>0</th>\n",
       "      <td>Male</td>\n",
       "      <td>53</td>\n",
       "      <td>19.138668</td>\n",
       "      <td>121.898174</td>\n",
       "      <td>61.773357</td>\n",
       "      <td>NaN</td>\n",
       "      <td>1.0</td>\n",
       "      <td>1.0</td>\n",
       "      <td>Poor</td>\n",
       "      <td>NY</td>\n",
       "      <td>12.365815</td>\n",
       "      <td>160.204426</td>\n",
       "      <td>0</td>\n",
       "    </tr>\n",
       "    <tr>\n",
       "      <th>1</th>\n",
       "      <td>Female</td>\n",
       "      <td>23</td>\n",
       "      <td>32.498117</td>\n",
       "      <td>154.821812</td>\n",
       "      <td>68.959128</td>\n",
       "      <td>Regularly</td>\n",
       "      <td>1.0</td>\n",
       "      <td>0.6</td>\n",
       "      <td>Average</td>\n",
       "      <td>OH</td>\n",
       "      <td>10.585105</td>\n",
       "      <td>145.484203</td>\n",
       "      <td>0</td>\n",
       "    </tr>\n",
       "    <tr>\n",
       "      <th>2</th>\n",
       "      <td>Male</td>\n",
       "      <td>27</td>\n",
       "      <td>33.151563</td>\n",
       "      <td>185.758938</td>\n",
       "      <td>113.805127</td>\n",
       "      <td>Regularly</td>\n",
       "      <td>1.0</td>\n",
       "      <td>0.0</td>\n",
       "      <td>NaN</td>\n",
       "      <td>FL</td>\n",
       "      <td>12.346710</td>\n",
       "      <td>206.106997</td>\n",
       "      <td>1</td>\n",
       "    </tr>\n",
       "    <tr>\n",
       "      <th>3</th>\n",
       "      <td>Female</td>\n",
       "      <td>32</td>\n",
       "      <td>37.248601</td>\n",
       "      <td>163.894943</td>\n",
       "      <td>57.066786</td>\n",
       "      <td>Frequently</td>\n",
       "      <td>0.0</td>\n",
       "      <td>1.0</td>\n",
       "      <td>Poor</td>\n",
       "      <td>OH</td>\n",
       "      <td>7.997821</td>\n",
       "      <td>257.131324</td>\n",
       "      <td>1</td>\n",
       "    </tr>\n",
       "    <tr>\n",
       "      <th>4</th>\n",
       "      <td>Female</td>\n",
       "      <td>18</td>\n",
       "      <td>26.668744</td>\n",
       "      <td>117.623795</td>\n",
       "      <td>93.728305</td>\n",
       "      <td>NaN</td>\n",
       "      <td>0.0</td>\n",
       "      <td>0.0</td>\n",
       "      <td>Good</td>\n",
       "      <td>NY</td>\n",
       "      <td>11.679335</td>\n",
       "      <td>249.370450</td>\n",
       "      <td>0</td>\n",
       "    </tr>\n",
       "  </tbody>\n",
       "</table>\n",
       "</div>"
      ],
      "text/plain": [
       "   gender  age        bmi  systolic_bp  diastolic_bp exercise_frequency  \\\n",
       "0    Male   53  19.138668   121.898174     61.773357                NaN   \n",
       "1  Female   23  32.498117   154.821812     68.959128          Regularly   \n",
       "2    Male   27  33.151563   185.758938    113.805127          Regularly   \n",
       "3  Female   32  37.248601   163.894943     57.066786         Frequently   \n",
       "4  Female   18  26.668744   117.623795     93.728305                NaN   \n",
       "\n",
       "   smoker  family_history diet_quality us_state  shoe_size  cholesterol_level  \\\n",
       "0     1.0             1.0         Poor       NY  12.365815         160.204426   \n",
       "1     1.0             0.6      Average       OH  10.585105         145.484203   \n",
       "2     1.0             0.0          NaN       FL  12.346710         206.106997   \n",
       "3     0.0             1.0         Poor       OH   7.997821         257.131324   \n",
       "4     0.0             0.0         Good       NY  11.679335         249.370450   \n",
       "\n",
       "   has_disease  \n",
       "0            0  \n",
       "1            0  \n",
       "2            1  \n",
       "3            1  \n",
       "4            0  "
      ]
     },
     "execution_count": 6,
     "metadata": {},
     "output_type": "execute_result"
    }
   ],
   "source": [
    "# copy dataset\n",
    "data_processed = data.copy()\n",
    "\n",
    "## columns to impute, these are the columns with missing values\n",
    "cols_to_impute = ['bmi', 'systolic_bp', 'diastolic_bp','family_history','smoker', 'cholesterol_level']\n",
    "\n",
    "# get the data\n",
    "imputation_data = data_processed[cols_to_impute]\n",
    "\n",
    "# Create a KNN imputer\n",
    "knn_imputer = KNNImputer(n_neighbors=5)\n",
    "\n",
    "# KNN imputation\n",
    "imputed_data = knn_imputer.fit_transform(imputation_data)\n",
    "\n",
    "# Replace imputed data\n",
    "data_processed[cols_to_impute] = imputed_data\n",
    "\n",
    "data_processed.head()"
   ]
  },
  {
   "cell_type": "markdown",
   "metadata": {},
   "source": [
    "### Imputing Non Numerical Columns"
   ]
  },
  {
   "cell_type": "code",
   "execution_count": 7,
   "metadata": {},
   "outputs": [
    {
     "data": {
      "text/html": [
       "<div>\n",
       "<style scoped>\n",
       "    .dataframe tbody tr th:only-of-type {\n",
       "        vertical-align: middle;\n",
       "    }\n",
       "\n",
       "    .dataframe tbody tr th {\n",
       "        vertical-align: top;\n",
       "    }\n",
       "\n",
       "    .dataframe thead th {\n",
       "        text-align: right;\n",
       "    }\n",
       "</style>\n",
       "<table border=\"1\" class=\"dataframe\">\n",
       "  <thead>\n",
       "    <tr style=\"text-align: right;\">\n",
       "      <th></th>\n",
       "      <th>gender</th>\n",
       "      <th>age</th>\n",
       "      <th>bmi</th>\n",
       "      <th>systolic_bp</th>\n",
       "      <th>diastolic_bp</th>\n",
       "      <th>exercise_frequency</th>\n",
       "      <th>smoker</th>\n",
       "      <th>family_history</th>\n",
       "      <th>diet_quality</th>\n",
       "      <th>us_state</th>\n",
       "      <th>shoe_size</th>\n",
       "      <th>cholesterol_level</th>\n",
       "      <th>has_disease</th>\n",
       "    </tr>\n",
       "  </thead>\n",
       "  <tbody>\n",
       "    <tr>\n",
       "      <th>0</th>\n",
       "      <td>Male</td>\n",
       "      <td>53</td>\n",
       "      <td>19.138668</td>\n",
       "      <td>121.898174</td>\n",
       "      <td>61.773357</td>\n",
       "      <td>Frequently</td>\n",
       "      <td>1.0</td>\n",
       "      <td>1.0</td>\n",
       "      <td>Poor</td>\n",
       "      <td>NY</td>\n",
       "      <td>12.365815</td>\n",
       "      <td>160.204426</td>\n",
       "      <td>0</td>\n",
       "    </tr>\n",
       "    <tr>\n",
       "      <th>1</th>\n",
       "      <td>Female</td>\n",
       "      <td>23</td>\n",
       "      <td>32.498117</td>\n",
       "      <td>154.821812</td>\n",
       "      <td>68.959128</td>\n",
       "      <td>Regularly</td>\n",
       "      <td>1.0</td>\n",
       "      <td>0.6</td>\n",
       "      <td>Average</td>\n",
       "      <td>OH</td>\n",
       "      <td>10.585105</td>\n",
       "      <td>145.484203</td>\n",
       "      <td>0</td>\n",
       "    </tr>\n",
       "    <tr>\n",
       "      <th>2</th>\n",
       "      <td>Male</td>\n",
       "      <td>27</td>\n",
       "      <td>33.151563</td>\n",
       "      <td>185.758938</td>\n",
       "      <td>113.805127</td>\n",
       "      <td>Regularly</td>\n",
       "      <td>1.0</td>\n",
       "      <td>0.0</td>\n",
       "      <td>Poor</td>\n",
       "      <td>FL</td>\n",
       "      <td>12.346710</td>\n",
       "      <td>206.106997</td>\n",
       "      <td>1</td>\n",
       "    </tr>\n",
       "    <tr>\n",
       "      <th>3</th>\n",
       "      <td>Female</td>\n",
       "      <td>32</td>\n",
       "      <td>37.248601</td>\n",
       "      <td>163.894943</td>\n",
       "      <td>57.066786</td>\n",
       "      <td>Frequently</td>\n",
       "      <td>0.0</td>\n",
       "      <td>1.0</td>\n",
       "      <td>Poor</td>\n",
       "      <td>OH</td>\n",
       "      <td>7.997821</td>\n",
       "      <td>257.131324</td>\n",
       "      <td>1</td>\n",
       "    </tr>\n",
       "    <tr>\n",
       "      <th>4</th>\n",
       "      <td>Female</td>\n",
       "      <td>18</td>\n",
       "      <td>26.668744</td>\n",
       "      <td>117.623795</td>\n",
       "      <td>93.728305</td>\n",
       "      <td>Frequently</td>\n",
       "      <td>0.0</td>\n",
       "      <td>0.0</td>\n",
       "      <td>Good</td>\n",
       "      <td>NY</td>\n",
       "      <td>11.679335</td>\n",
       "      <td>249.370450</td>\n",
       "      <td>0</td>\n",
       "    </tr>\n",
       "  </tbody>\n",
       "</table>\n",
       "</div>"
      ],
      "text/plain": [
       "   gender  age        bmi  systolic_bp  diastolic_bp exercise_frequency  \\\n",
       "0    Male   53  19.138668   121.898174     61.773357         Frequently   \n",
       "1  Female   23  32.498117   154.821812     68.959128          Regularly   \n",
       "2    Male   27  33.151563   185.758938    113.805127          Regularly   \n",
       "3  Female   32  37.248601   163.894943     57.066786         Frequently   \n",
       "4  Female   18  26.668744   117.623795     93.728305         Frequently   \n",
       "\n",
       "   smoker  family_history diet_quality us_state  shoe_size  cholesterol_level  \\\n",
       "0     1.0             1.0         Poor       NY  12.365815         160.204426   \n",
       "1     1.0             0.6      Average       OH  10.585105         145.484203   \n",
       "2     1.0             0.0         Poor       FL  12.346710         206.106997   \n",
       "3     0.0             1.0         Poor       OH   7.997821         257.131324   \n",
       "4     0.0             0.0         Good       NY  11.679335         249.370450   \n",
       "\n",
       "   has_disease  \n",
       "0            0  \n",
       "1            0  \n",
       "2            1  \n",
       "3            1  \n",
       "4            0  "
      ]
     },
     "execution_count": 7,
     "metadata": {},
     "output_type": "execute_result"
    }
   ],
   "source": [
    "# get the columns with missing values, non numerical\n",
    "cats_cols = ['exercise_frequency','diet_quality']\n",
    "\n",
    "# create imputer\n",
    "categorical_imputer = SimpleImputer(strategy='most_frequent')\n",
    "\n",
    "# Impute missing values \n",
    "data_processed[cats_cols] = categorical_imputer.fit_transform(data_processed[cats_cols])\n",
    "\n",
    "data_processed.head()"
   ]
  },
  {
   "cell_type": "markdown",
   "metadata": {},
   "source": [
    "### Check the missing values"
   ]
  },
  {
   "cell_type": "code",
   "execution_count": 8,
   "metadata": {},
   "outputs": [
    {
     "name": "stdout",
     "output_type": "stream",
     "text": [
      "Columns with Missing Values:\n",
      "[]\n"
     ]
    }
   ],
   "source": [
    "find_missing(data_processed)"
   ]
  },
  {
   "cell_type": "markdown",
   "metadata": {},
   "source": [
    "#### Get target VARIABLES "
   ]
  },
  {
   "cell_type": "code",
   "execution_count": 9,
   "metadata": {},
   "outputs": [
    {
     "data": {
      "text/html": [
       "<div>\n",
       "<style scoped>\n",
       "    .dataframe tbody tr th:only-of-type {\n",
       "        vertical-align: middle;\n",
       "    }\n",
       "\n",
       "    .dataframe tbody tr th {\n",
       "        vertical-align: top;\n",
       "    }\n",
       "\n",
       "    .dataframe thead th {\n",
       "        text-align: right;\n",
       "    }\n",
       "</style>\n",
       "<table border=\"1\" class=\"dataframe\">\n",
       "  <thead>\n",
       "    <tr style=\"text-align: right;\">\n",
       "      <th></th>\n",
       "      <th>gender</th>\n",
       "      <th>age</th>\n",
       "      <th>bmi</th>\n",
       "      <th>systolic_bp</th>\n",
       "      <th>diastolic_bp</th>\n",
       "      <th>exercise_frequency</th>\n",
       "      <th>smoker</th>\n",
       "      <th>family_history</th>\n",
       "      <th>diet_quality</th>\n",
       "      <th>us_state</th>\n",
       "      <th>shoe_size</th>\n",
       "      <th>cholesterol_level</th>\n",
       "    </tr>\n",
       "  </thead>\n",
       "  <tbody>\n",
       "    <tr>\n",
       "      <th>0</th>\n",
       "      <td>Male</td>\n",
       "      <td>53</td>\n",
       "      <td>19.138668</td>\n",
       "      <td>121.898174</td>\n",
       "      <td>61.773357</td>\n",
       "      <td>Frequently</td>\n",
       "      <td>1.0</td>\n",
       "      <td>1.0</td>\n",
       "      <td>Poor</td>\n",
       "      <td>NY</td>\n",
       "      <td>12.365815</td>\n",
       "      <td>160.204426</td>\n",
       "    </tr>\n",
       "    <tr>\n",
       "      <th>1</th>\n",
       "      <td>Female</td>\n",
       "      <td>23</td>\n",
       "      <td>32.498117</td>\n",
       "      <td>154.821812</td>\n",
       "      <td>68.959128</td>\n",
       "      <td>Regularly</td>\n",
       "      <td>1.0</td>\n",
       "      <td>0.6</td>\n",
       "      <td>Average</td>\n",
       "      <td>OH</td>\n",
       "      <td>10.585105</td>\n",
       "      <td>145.484203</td>\n",
       "    </tr>\n",
       "    <tr>\n",
       "      <th>2</th>\n",
       "      <td>Male</td>\n",
       "      <td>27</td>\n",
       "      <td>33.151563</td>\n",
       "      <td>185.758938</td>\n",
       "      <td>113.805127</td>\n",
       "      <td>Regularly</td>\n",
       "      <td>1.0</td>\n",
       "      <td>0.0</td>\n",
       "      <td>Poor</td>\n",
       "      <td>FL</td>\n",
       "      <td>12.346710</td>\n",
       "      <td>206.106997</td>\n",
       "    </tr>\n",
       "    <tr>\n",
       "      <th>3</th>\n",
       "      <td>Female</td>\n",
       "      <td>32</td>\n",
       "      <td>37.248601</td>\n",
       "      <td>163.894943</td>\n",
       "      <td>57.066786</td>\n",
       "      <td>Frequently</td>\n",
       "      <td>0.0</td>\n",
       "      <td>1.0</td>\n",
       "      <td>Poor</td>\n",
       "      <td>OH</td>\n",
       "      <td>7.997821</td>\n",
       "      <td>257.131324</td>\n",
       "    </tr>\n",
       "    <tr>\n",
       "      <th>4</th>\n",
       "      <td>Female</td>\n",
       "      <td>18</td>\n",
       "      <td>26.668744</td>\n",
       "      <td>117.623795</td>\n",
       "      <td>93.728305</td>\n",
       "      <td>Frequently</td>\n",
       "      <td>0.0</td>\n",
       "      <td>0.0</td>\n",
       "      <td>Good</td>\n",
       "      <td>NY</td>\n",
       "      <td>11.679335</td>\n",
       "      <td>249.370450</td>\n",
       "    </tr>\n",
       "  </tbody>\n",
       "</table>\n",
       "</div>"
      ],
      "text/plain": [
       "   gender  age        bmi  systolic_bp  diastolic_bp exercise_frequency  \\\n",
       "0    Male   53  19.138668   121.898174     61.773357         Frequently   \n",
       "1  Female   23  32.498117   154.821812     68.959128          Regularly   \n",
       "2    Male   27  33.151563   185.758938    113.805127          Regularly   \n",
       "3  Female   32  37.248601   163.894943     57.066786         Frequently   \n",
       "4  Female   18  26.668744   117.623795     93.728305         Frequently   \n",
       "\n",
       "   smoker  family_history diet_quality us_state  shoe_size  cholesterol_level  \n",
       "0     1.0             1.0         Poor       NY  12.365815         160.204426  \n",
       "1     1.0             0.6      Average       OH  10.585105         145.484203  \n",
       "2     1.0             0.0         Poor       FL  12.346710         206.106997  \n",
       "3     0.0             1.0         Poor       OH   7.997821         257.131324  \n",
       "4     0.0             0.0         Good       NY  11.679335         249.370450  "
      ]
     },
     "execution_count": 9,
     "metadata": {},
     "output_type": "execute_result"
    }
   ],
   "source": [
    "# Separate the target variable\n",
    "X = data_processed.drop(columns=[\"has_disease\"])\n",
    "y = data_processed[\"has_disease\"]\n",
    "X.head()"
   ]
  },
  {
   "cell_type": "markdown",
   "metadata": {},
   "source": [
    "### Split the data into training and testing sets"
   ]
  },
  {
   "cell_type": "code",
   "execution_count": 10,
   "metadata": {},
   "outputs": [
    {
     "name": "stdout",
     "output_type": "stream",
     "text": [
      "['gender', 'exercise_frequency', 'diet_quality', 'us_state']\n",
      "['age', 'bmi', 'systolic_bp', 'diastolic_bp', 'smoker', 'family_history', 'shoe_size', 'cholesterol_level']\n"
     ]
    }
   ],
   "source": [
    "\n",
    "X_train, X_test, y_train, y_test = train_test_split(X, y, test_size=0.2, random_state=42)\n",
    "# Define categorical and numeric columns\n",
    "categorical_cols = X_train.select_dtypes(include=['object']).columns.tolist()\n",
    "numeric_cols = X_train.select_dtypes(exclude=['object']).columns.tolist()\n",
    "\n",
    "print(categorical_cols)\n",
    "print(numeric_cols)"
   ]
  },
  {
   "cell_type": "markdown",
   "metadata": {},
   "source": [
    "#### Transformers for processing, Further Processing"
   ]
  },
  {
   "cell_type": "code",
   "execution_count": 11,
   "metadata": {},
   "outputs": [],
   "source": [
    "# Create transformers for for processing numerical and categorical columns\n",
    "#handles the outliers\n",
    "\n",
    "## for categorical\n",
    "numeric_transformer = Pipeline(steps=[\n",
    "    ('imputer', SimpleImputer(strategy='median')),\n",
    "    ('outlier_handling', 'passthrough'),  \n",
    "    ('scaler', RobustScaler())\n",
    "])\n",
    "\n",
    "\n",
    "## for numerical\n",
    "categorical_transformer = Pipeline(steps=[\n",
    "    ('imputer', SimpleImputer(strategy='most_frequent')),\n",
    "    ('onehot', OneHotEncoder(handle_unknown='ignore'))\n",
    "])\n",
    "\n",
    "\n",
    "## create the preprocessor\n",
    "preprocessor = ColumnTransformer(\n",
    "    transformers=[\n",
    "        ('num', numeric_transformer, numeric_cols),\n",
    "        ('cat', categorical_transformer, categorical_cols)\n",
    "    ])\n"
   ]
  },
  {
   "cell_type": "markdown",
   "metadata": {},
   "source": [
    "### Step 2: Build the Classifier"
   ]
  },
  {
   "cell_type": "markdown",
   "metadata": {},
   "source": [
    "#### Logistic Regression Classifier"
   ]
  },
  {
   "cell_type": "code",
   "execution_count": 12,
   "metadata": {},
   "outputs": [
    {
     "name": "stdout",
     "output_type": "stream",
     "text": [
      "F1 Score: 84.375 %\n"
     ]
    }
   ],
   "source": [
    "#create a Classifier\n",
    "lg_classifier = LogisticRegression(max_iter=1000)\n",
    "\n",
    "# create a pipeline for processing\n",
    "lg_clf = Pipeline(steps=[('preprocessor', preprocessor),\n",
    "                      ('classifier', lg_classifier)])\n",
    "\n",
    "\n",
    "# Train the Classifier\n",
    "lg_clf.fit(X_train, y_train)\n",
    "\n",
    "\n",
    "# Make predictions on the testing set\n",
    "y_pred = lg_clf.predict(X_test)\n",
    "\n",
    "\n",
    "# get F1 score\n",
    "f1 = f1_score(y_test, y_pred)\n",
    "\n",
    "\n",
    "# Print the F1 score as a percentage\n",
    "print(\"F1 Score:\", f1*100, \"%\")"
   ]
  },
  {
   "cell_type": "markdown",
   "metadata": {},
   "source": [
    "#### SVC Classifier"
   ]
  },
  {
   "cell_type": "code",
   "execution_count": 13,
   "metadata": {},
   "outputs": [
    {
     "name": "stdout",
     "output_type": "stream",
     "text": [
      "F1 Score: 0.8374164810690423\n"
     ]
    }
   ],
   "source": [
    "# define a classifier\n",
    "svc_classifier = SVC(kernel='linear')\n",
    "\n",
    "# create a pipeline\n",
    "svc_clf = Pipeline(steps=[('preprocessor', preprocessor),\n",
    "                      ('classifier', svc_classifier)])\n",
    "\n",
    "# Train the classifier\n",
    "svc_clf.fit(X_train, y_train)\n",
    "\n",
    "# Make predictions on the testing set\n",
    "y_pred = svc_clf.predict(X_test)\n",
    "\n",
    "# Calculate the F1 score\n",
    "f1 = f1_score(y_test, y_pred)\n",
    "\n",
    "# Print the score\n",
    "print(\"F1 Score:\", f1)\n"
   ]
  },
  {
   "cell_type": "markdown",
   "metadata": {},
   "source": [
    "### GradientBoostingClassifier classifier"
   ]
  },
  {
   "cell_type": "code",
   "execution_count": 14,
   "metadata": {},
   "outputs": [
    {
     "name": "stdout",
     "output_type": "stream",
     "text": [
      "F1 Score: 0.8701594533029612\n"
     ]
    }
   ],
   "source": [
    "# create a classifier\n",
    "gbc_classifier = GradientBoostingClassifier(n_estimators=100, random_state=42)\n",
    "\n",
    "# create a pipeline\n",
    "gbc_clf = Pipeline(steps=[('preprocessor', preprocessor),\n",
    "                      ('classifier', gbc_classifier)])\n",
    "\n",
    "# Train the dataset\n",
    "gbc_clf.fit(X_train, y_train)\n",
    "\n",
    "# make predictions\n",
    "y_pred = gbc_clf.predict(X_test)\n",
    "\n",
    "# get f1 score\n",
    "f1 = f1_score(y_test, y_pred)\n",
    "print(\"F1 Score:\", f1)\n"
   ]
  },
  {
   "cell_type": "markdown",
   "metadata": {},
   "source": [
    "### A function to find the f1 score using different classifiers"
   ]
  },
  {
   "cell_type": "code",
   "execution_count": 15,
   "metadata": {},
   "outputs": [],
   "source": [
    "def evaluate_classifiers(classifiers, X_train, X_test, y_train, y_test):\n",
    "    results = []\n",
    "\n",
    "    for clf_name, classifier in classifiers:\n",
    "        # Create a pipeline that includes preprocessing and the classifier\n",
    "        clf = Pipeline(steps=[('preprocessor', preprocessor),\n",
    "                              ('classifier', classifier)])\n",
    "\n",
    "        # Fit the classifier to the preprocessed training data (with outliers removed)\n",
    "        clf.fit(X_train, y_train)\n",
    "\n",
    "        # Make predictions on the testing set\n",
    "        y_pred = clf.predict(X_test)\n",
    "        \n",
    "        # Calculate the F1 score\n",
    "        f1 = f1_score(y_test, y_pred)\n",
    "\n",
    "        # Append results to the list\n",
    "        results.append({'Classifier': clf_name, 'F1 Score': f1*100})\n",
    "\n",
    "    # Create a DataFrame to store the results\n",
    "    results_df = pd.DataFrame(results)\n",
    "    return results_df"
   ]
  },
  {
   "cell_type": "markdown",
   "metadata": {},
   "source": [
    "#### Classifiers to be tested"
   ]
  },
  {
   "cell_type": "code",
   "execution_count": 16,
   "metadata": {},
   "outputs": [],
   "source": [
    "# Define the list of classifiers to evaluate\n",
    "classifiers_to_evaluate = [\n",
    "    ('K-Nearest Neighbors', KNeighborsClassifier(n_neighbors=5)),\n",
    "    ('Gradient Boosting', GradientBoostingClassifier(n_estimators=100, random_state=42)),\n",
    "    ('SVC',SVC(kernel='linear')),\n",
    "    ('LogisticRegression',LogisticRegression(max_iter=1000))\n",
    "]"
   ]
  },
  {
   "cell_type": "markdown",
   "metadata": {},
   "source": [
    "### Calculating F1 score for Imputed Cases"
   ]
  },
  {
   "cell_type": "code",
   "execution_count": 17,
   "metadata": {},
   "outputs": [
    {
     "data": {
      "text/html": [
       "<div>\n",
       "<style scoped>\n",
       "    .dataframe tbody tr th:only-of-type {\n",
       "        vertical-align: middle;\n",
       "    }\n",
       "\n",
       "    .dataframe tbody tr th {\n",
       "        vertical-align: top;\n",
       "    }\n",
       "\n",
       "    .dataframe thead th {\n",
       "        text-align: right;\n",
       "    }\n",
       "</style>\n",
       "<table border=\"1\" class=\"dataframe\">\n",
       "  <thead>\n",
       "    <tr style=\"text-align: right;\">\n",
       "      <th></th>\n",
       "      <th>Classifier</th>\n",
       "      <th>F1 Score</th>\n",
       "    </tr>\n",
       "  </thead>\n",
       "  <tbody>\n",
       "    <tr>\n",
       "      <th>0</th>\n",
       "      <td>K-Nearest Neighbors</td>\n",
       "      <td>75.402299</td>\n",
       "    </tr>\n",
       "    <tr>\n",
       "      <th>1</th>\n",
       "      <td>Gradient Boosting</td>\n",
       "      <td>87.015945</td>\n",
       "    </tr>\n",
       "    <tr>\n",
       "      <th>2</th>\n",
       "      <td>SVC</td>\n",
       "      <td>83.741648</td>\n",
       "    </tr>\n",
       "    <tr>\n",
       "      <th>3</th>\n",
       "      <td>LogisticRegression</td>\n",
       "      <td>84.375000</td>\n",
       "    </tr>\n",
       "  </tbody>\n",
       "</table>\n",
       "</div>"
      ],
      "text/plain": [
       "            Classifier   F1 Score\n",
       "0  K-Nearest Neighbors  75.402299\n",
       "1    Gradient Boosting  87.015945\n",
       "2                  SVC  83.741648\n",
       "3   LogisticRegression  84.375000"
      ]
     },
     "execution_count": 17,
     "metadata": {},
     "output_type": "execute_result"
    }
   ],
   "source": [
    "# Evaluate classifiers\n",
    "f1_df = evaluate_classifiers(classifiers_to_evaluate, X_train, X_test, y_train, y_test)\n",
    "\n",
    "# Print the results\n",
    "f1_df"
   ]
  },
  {
   "cell_type": "markdown",
   "metadata": {},
   "source": [
    "### Calculating F1 score for Complete Cases"
   ]
  },
  {
   "cell_type": "code",
   "execution_count": 18,
   "metadata": {},
   "outputs": [],
   "source": [
    "# target values for complete cases\n",
    "X = data.drop(columns=['has_disease'])\n",
    "y = data['has_disease']"
   ]
  },
  {
   "cell_type": "code",
   "execution_count": 19,
   "metadata": {},
   "outputs": [],
   "source": [
    "# split the complete cases\n",
    "X_train, X_test, y_train, y_test = train_test_split(X, y, test_size=0.2, random_state=42)\n",
    "\n",
    "# comple cases mask\n",
    "ccm = X_train.notnull().all(axis=1)\n",
    "\n",
    "# get complete cases\n",
    "X_t_complete = X_train[ccm]\n",
    "y_t_complete = y_train[ccm]\n"
   ]
  },
  {
   "cell_type": "code",
   "execution_count": 20,
   "metadata": {},
   "outputs": [
    {
     "data": {
      "text/html": [
       "<div>\n",
       "<style scoped>\n",
       "    .dataframe tbody tr th:only-of-type {\n",
       "        vertical-align: middle;\n",
       "    }\n",
       "\n",
       "    .dataframe tbody tr th {\n",
       "        vertical-align: top;\n",
       "    }\n",
       "\n",
       "    .dataframe thead th {\n",
       "        text-align: right;\n",
       "    }\n",
       "</style>\n",
       "<table border=\"1\" class=\"dataframe\">\n",
       "  <thead>\n",
       "    <tr style=\"text-align: right;\">\n",
       "      <th></th>\n",
       "      <th>Classifier</th>\n",
       "      <th>F1 Score</th>\n",
       "    </tr>\n",
       "  </thead>\n",
       "  <tbody>\n",
       "    <tr>\n",
       "      <th>0</th>\n",
       "      <td>K-Nearest Neighbors</td>\n",
       "      <td>77.625571</td>\n",
       "    </tr>\n",
       "    <tr>\n",
       "      <th>1</th>\n",
       "      <td>Gradient Boosting</td>\n",
       "      <td>85.193622</td>\n",
       "    </tr>\n",
       "    <tr>\n",
       "      <th>2</th>\n",
       "      <td>SVC</td>\n",
       "      <td>85.842697</td>\n",
       "    </tr>\n",
       "    <tr>\n",
       "      <th>3</th>\n",
       "      <td>LogisticRegression</td>\n",
       "      <td>84.545455</td>\n",
       "    </tr>\n",
       "  </tbody>\n",
       "</table>\n",
       "</div>"
      ],
      "text/plain": [
       "            Classifier   F1 Score\n",
       "0  K-Nearest Neighbors  77.625571\n",
       "1    Gradient Boosting  85.193622\n",
       "2                  SVC  85.842697\n",
       "3   LogisticRegression  84.545455"
      ]
     },
     "execution_count": 20,
     "metadata": {},
     "output_type": "execute_result"
    }
   ],
   "source": [
    "# Evaluate classifiers\n",
    "results_complete_case_df = evaluate_classifiers(classifiers_to_evaluate, X_t_complete, X_test, y_t_complete, y_test)\n",
    "# Print the results\n",
    "results_complete_case_df"
   ]
  },
  {
   "cell_type": "markdown",
   "metadata": {},
   "source": [
    "#### Selected Classifier Gradient Boosting"
   ]
  },
  {
   "cell_type": "code",
   "execution_count": 26,
   "metadata": {},
   "outputs": [
    {
     "data": {
      "text/plain": [
       "86.10478359908883"
      ]
     },
     "execution_count": 26,
     "metadata": {},
     "output_type": "execute_result"
    }
   ],
   "source": [
    "## Overall F1 score\n",
    "f1_scores = results_complete_case_df['F1 Score']\n",
    "f1_gb = f1_scores.iloc[1]\n",
    "\n",
    "\n",
    "f1_imputed_scores = f1_df['F1 Score']\n",
    "f1_gb_2 = f1_imputed_scores.iloc[1]\n",
    "\n",
    "overall = (f1_gb + f1_gb_2) / 2\n",
    "\n",
    "overall "
   ]
  },
  {
   "cell_type": "markdown",
   "metadata": {},
   "source": [
    "####  Predicting  Using the Test Data"
   ]
  },
  {
   "cell_type": "code",
   "execution_count": 22,
   "metadata": {},
   "outputs": [
    {
     "data": {
      "text/html": [
       "<div>\n",
       "<style scoped>\n",
       "    .dataframe tbody tr th:only-of-type {\n",
       "        vertical-align: middle;\n",
       "    }\n",
       "\n",
       "    .dataframe tbody tr th {\n",
       "        vertical-align: top;\n",
       "    }\n",
       "\n",
       "    .dataframe thead th {\n",
       "        text-align: right;\n",
       "    }\n",
       "</style>\n",
       "<table border=\"1\" class=\"dataframe\">\n",
       "  <thead>\n",
       "    <tr style=\"text-align: right;\">\n",
       "      <th></th>\n",
       "      <th>gender</th>\n",
       "      <th>age</th>\n",
       "      <th>bmi</th>\n",
       "      <th>systolic_bp</th>\n",
       "      <th>diastolic_bp</th>\n",
       "      <th>exercise_frequency</th>\n",
       "      <th>smoker</th>\n",
       "      <th>family_history</th>\n",
       "      <th>diet_quality</th>\n",
       "      <th>us_state</th>\n",
       "      <th>shoe_size</th>\n",
       "      <th>cholesterol_level</th>\n",
       "    </tr>\n",
       "  </thead>\n",
       "  <tbody>\n",
       "    <tr>\n",
       "      <th>0</th>\n",
       "      <td>Male</td>\n",
       "      <td>24</td>\n",
       "      <td>31.084429</td>\n",
       "      <td>79.735428</td>\n",
       "      <td>76.334048</td>\n",
       "      <td>Never</td>\n",
       "      <td>0.0</td>\n",
       "      <td>0.0</td>\n",
       "      <td>NaN</td>\n",
       "      <td>NC</td>\n",
       "      <td>12.803742</td>\n",
       "      <td>232.868297</td>\n",
       "    </tr>\n",
       "    <tr>\n",
       "      <th>1</th>\n",
       "      <td>Male</td>\n",
       "      <td>53</td>\n",
       "      <td>36.168233</td>\n",
       "      <td>179.902564</td>\n",
       "      <td>93.005086</td>\n",
       "      <td>Never</td>\n",
       "      <td>0.0</td>\n",
       "      <td>0.0</td>\n",
       "      <td>Average</td>\n",
       "      <td>CA</td>\n",
       "      <td>5.101318</td>\n",
       "      <td>179.375333</td>\n",
       "    </tr>\n",
       "    <tr>\n",
       "      <th>2</th>\n",
       "      <td>Male</td>\n",
       "      <td>20</td>\n",
       "      <td>NaN</td>\n",
       "      <td>106.626029</td>\n",
       "      <td>NaN</td>\n",
       "      <td>Never</td>\n",
       "      <td>NaN</td>\n",
       "      <td>0.0</td>\n",
       "      <td>Poor</td>\n",
       "      <td>CA</td>\n",
       "      <td>12.266724</td>\n",
       "      <td>107.443451</td>\n",
       "    </tr>\n",
       "    <tr>\n",
       "      <th>3</th>\n",
       "      <td>Female</td>\n",
       "      <td>69</td>\n",
       "      <td>21.879392</td>\n",
       "      <td>99.452795</td>\n",
       "      <td>114.495464</td>\n",
       "      <td>Regularly</td>\n",
       "      <td>0.0</td>\n",
       "      <td>1.0</td>\n",
       "      <td>Good</td>\n",
       "      <td>CA</td>\n",
       "      <td>5.643639</td>\n",
       "      <td>268.170173</td>\n",
       "    </tr>\n",
       "    <tr>\n",
       "      <th>4</th>\n",
       "      <td>Female</td>\n",
       "      <td>78</td>\n",
       "      <td>30.289369</td>\n",
       "      <td>102.042081</td>\n",
       "      <td>58.688564</td>\n",
       "      <td>Frequently</td>\n",
       "      <td>1.0</td>\n",
       "      <td>0.0</td>\n",
       "      <td>Average</td>\n",
       "      <td>NC</td>\n",
       "      <td>11.761399</td>\n",
       "      <td>239.892775</td>\n",
       "    </tr>\n",
       "  </tbody>\n",
       "</table>\n",
       "</div>"
      ],
      "text/plain": [
       "   gender  age        bmi  systolic_bp  diastolic_bp exercise_frequency  \\\n",
       "0    Male   24  31.084429    79.735428     76.334048              Never   \n",
       "1    Male   53  36.168233   179.902564     93.005086              Never   \n",
       "2    Male   20        NaN   106.626029           NaN              Never   \n",
       "3  Female   69  21.879392    99.452795    114.495464          Regularly   \n",
       "4  Female   78  30.289369   102.042081     58.688564         Frequently   \n",
       "\n",
       "   smoker  family_history diet_quality us_state  shoe_size  cholesterol_level  \n",
       "0     0.0             0.0          NaN       NC  12.803742         232.868297  \n",
       "1     0.0             0.0      Average       CA   5.101318         179.375333  \n",
       "2     NaN             0.0         Poor       CA  12.266724         107.443451  \n",
       "3     0.0             1.0         Good       CA   5.643639         268.170173  \n",
       "4     1.0             0.0      Average       NC  11.761399         239.892775  "
      ]
     },
     "execution_count": 22,
     "metadata": {},
     "output_type": "execute_result"
    }
   ],
   "source": [
    "test_data = pd.read_csv('synthetic_data_test.csv')\n",
    "test_data.head()"
   ]
  },
  {
   "cell_type": "markdown",
   "metadata": {},
   "source": [
    "#### Make Predictions Using Best Classifier"
   ]
  },
  {
   "cell_type": "code",
   "execution_count": 23,
   "metadata": {},
   "outputs": [],
   "source": [
    "## make predictions\n",
    "y_pred_test = gbc_clf.predict(test_data)\n"
   ]
  },
  {
   "cell_type": "markdown",
   "metadata": {},
   "source": [
    "#### Save the Tests Predictions"
   ]
  },
  {
   "cell_type": "code",
   "execution_count": 25,
   "metadata": {},
   "outputs": [
    {
     "data": {
      "text/html": [
       "<div>\n",
       "<style scoped>\n",
       "    .dataframe tbody tr th:only-of-type {\n",
       "        vertical-align: middle;\n",
       "    }\n",
       "\n",
       "    .dataframe tbody tr th {\n",
       "        vertical-align: top;\n",
       "    }\n",
       "\n",
       "    .dataframe thead th {\n",
       "        text-align: right;\n",
       "    }\n",
       "</style>\n",
       "<table border=\"1\" class=\"dataframe\">\n",
       "  <thead>\n",
       "    <tr style=\"text-align: right;\">\n",
       "      <th></th>\n",
       "      <th>Preds</th>\n",
       "    </tr>\n",
       "  </thead>\n",
       "  <tbody>\n",
       "    <tr>\n",
       "      <th>0</th>\n",
       "      <td>0</td>\n",
       "    </tr>\n",
       "    <tr>\n",
       "      <th>1</th>\n",
       "      <td>1</td>\n",
       "    </tr>\n",
       "    <tr>\n",
       "      <th>2</th>\n",
       "      <td>0</td>\n",
       "    </tr>\n",
       "    <tr>\n",
       "      <th>3</th>\n",
       "      <td>1</td>\n",
       "    </tr>\n",
       "    <tr>\n",
       "      <th>4</th>\n",
       "      <td>1</td>\n",
       "    </tr>\n",
       "  </tbody>\n",
       "</table>\n",
       "</div>"
      ],
      "text/plain": [
       "   Preds\n",
       "0      0\n",
       "1      1\n",
       "2      0\n",
       "3      1\n",
       "4      1"
      ]
     },
     "execution_count": 25,
     "metadata": {},
     "output_type": "execute_result"
    }
   ],
   "source": [
    "# Create df\n",
    "pred_df = pd.DataFrame({'Preds': y_pred_test})\n",
    "\n",
    "# save the df\n",
    "pred_df.to_csv('answers.csv', index=False)\n",
    "\n",
    "##display head\n",
    "pred_df.head()"
   ]
  }
 ],
 "metadata": {
  "kernelspec": {
   "display_name": "myenv",
   "language": "python",
   "name": "python3"
  },
  "language_info": {
   "codemirror_mode": {
    "name": "ipython",
    "version": 3
   },
   "file_extension": ".py",
   "mimetype": "text/x-python",
   "name": "python",
   "nbconvert_exporter": "python",
   "pygments_lexer": "ipython3",
   "version": "3.10.8"
  },
  "orig_nbformat": 4
 },
 "nbformat": 4,
 "nbformat_minor": 2
}
